{
  "nbformat": 4,
  "nbformat_minor": 0,
  "metadata": {
    "colab": {
      "provenance": [],
      "name": "meta_bcr.ipynb"
    },
    "kernelspec": {
      "name": "python3",
      "display_name": "Python 3"
    },
    "language_info": {
      "name": "python"
    }
  },
  "cells": [
    {
      "cell_type": "markdown",
      "source": [
        "<div align=\"center\">\n",
        "<h1> MetaBCR unveils a germinal center-derived atypical memory B cell subset expressing broadly neutralizing antibodies </h1>\n",
        "\n",
        "\n",
        "<a href=\"https://github.com/jianqingzheng/meta_bcr\"><img src=\"https://img.shields.io/github/stars/jianqingzheng/meta_bcr?style=social&label=Code+★\" /></a>\n",
        "\\|\n",
        "[![Explore MetaBCR in Colab](https://colab.research.google.com/assets/colab-badge.svg)](https://colab.research.google.com/github/jianqingzheng/meta_bcr/blob/main/meta_bcr.ipynb)\n",
        "</div>\n",
        "\n",
        "\n",
        "Code for paper [MetaBCR unveils a germinal center-derived atypical memory B cell subset expressing broadly neutralizing antibodies]()\n",
        "\n",
        "> This implementation includes the training and inference pipeline of MetaBCR based on PyTorch."
      ],
      "metadata": {
        "id": "b6wz3wqFgL7b"
      }
    },
    {
      "cell_type": "markdown",
      "source": [
        "---\n",
        "#### Contents ####\n",
        "- 1. Installation\n",
        "- 2. Usage\n",
        "  - 2.1. Training (optional)\n",
        "  - 2.2a. Inference by entering data\n",
        "  - 2.2b. Batch Inference\n",
        "- 3. Citing this work\n",
        "---"
      ],
      "metadata": {
        "id": "V2D7wQZaIc4K"
      }
    },
    {
      "cell_type": "code",
      "execution_count": 1,
      "metadata": {
        "id": "hO4x9NDrfGrm",
        "cellView": "form",
        "colab": {
          "base_uri": "https://localhost:8080/"
        },
        "outputId": "2d1b967e-0260-4d1b-fee7-cf5e2c9f1be1"
      },
      "outputs": [
        {
          "output_type": "stream",
          "name": "stdout",
          "text": [
            "Cloning into 'meta_bcr'...\n",
            "remote: Enumerating objects: 179, done.\u001b[K\n",
            "remote: Counting objects: 100% (179/179), done.\u001b[K\n",
            "remote: Compressing objects: 100% (80/80), done.\u001b[K\n",
            "remote: Total 179 (delta 127), reused 132 (delta 94), pack-reused 0 (from 0)\u001b[K\n",
            "Receiving objects: 100% (179/179), 124.74 KiB | 3.37 MiB/s, done.\n",
            "Resolving deltas: 100% (127/127), done.\n",
            "/content/meta_bcr\n"
          ]
        }
      ],
      "source": [
        "#@title 1. Installation {run: \"auto\"}\n",
        "#@markdown Clone code from Github repo: https://github.com/jianqingzheng/meta_bcr.git\n",
        "\n",
        "!git clone https://github.com/jianqingzheng/meta_bcr.git\n",
        "%cd meta_bcr/\n",
        "\n",
        "#@markdown and Install packages\n",
        "\n",
        "#@markdown > `pytorch==1.12.1` was the version originally used, but has changed here due to Colab compatibility issues.\\\n",
        "#@markdown > Other versions of the packages could also be applicable\n"
      ]
    },
    {
      "cell_type": "markdown",
      "source": [
        "## 2. Usage\n",
        "\n",
        "\\* Setup\n",
        "```\n",
        "[$DOWNLOAD_DIR]/meta_bcr/\n",
        "├── Analysis/\n",
        "|   └── ...\n",
        "├── Config/\n",
        "|   |   # configure file (.json files)\n",
        "|   └── config_[$data_name].json\n",
        "|   └── ...\n",
        "├── Data/\n",
        "|   ├── /\n",
        "|   └── ...\n",
        "├── External/\n",
        "|   ├── prot_bert/\n",
        "|   └── ...\n",
        "├── MetaBCR/\n",
        "|   ├── /\n",
        "|   └── ...\n",
        "├── Models/\n",
        "|   └── ...\n",
        "└── ...\n",
        "```\n",
        "> Default model can be also downloaded from [Model](https://drive.google.com/drive/folders/1om6Rt9kvjuebvVd3TrouVkCuTKVWYAjX)"
      ],
      "metadata": {
        "id": "muTruGCpicYL"
      }
    },
    {
      "cell_type": "markdown",
      "source": [
        "### 2.1. Training (optional)\n",
        "1. Upload the experimental data in `/content/XBCR-net/data/binding/exper/` and the non-experimental data in `/content/XBCR-net/data/binding/nonexp/`\n",
        "\n",
        "2. Run\n",
        "```!python main_train.py --model_name XBCR_net --data_name binding --model_num $model_num --max_epochs max_epochs --include_light [1/0]```\n",
        "\n",
        "3. Check the saved model in `/content/XBCR-net/models/binding/binding-XBCR_net/`"
      ],
      "metadata": {
        "id": "ECD58BA9iV2z"
      }
    },
    {
      "cell_type": "markdown",
      "source": [
        "<div align=\"center\">\n",
        "\n",
        "| Argument              | Description                                \t|\n",
        "| --------------------- | ----------------------------------------------|\n",
        "| `--data_name` \t| The data folder name                       \t|\n",
        "| `--model_name`        | The used model                      \t     \t|\n",
        "| `--model_num`         | The index number of trained model          \t|\n",
        "| `--max_epochs`        | The max epoch number for training \t     \t|\n",
        "| `--include_light`     | 1/0: include/exclude input of a light chain\t|\n",
        "\n",
        "</div>"
      ],
      "metadata": {
        "id": "6AXf_gouKMVk"
      }
    },
    {
      "cell_type": "code",
      "source": [
        "#@markdown \\* Example for training (optional):\n",
        "\n",
        "data_name = 'flu-bind' #@param ['flu-bind','flu-neu','sars-bind','sars-neu']\n",
        "\n",
        "!python train_semi_supervise.py --dataset {data_name}"
      ],
      "metadata": {
        "colab": {
          "base_uri": "https://localhost:8080/"
        },
        "cellView": "form",
        "id": "GQHxFzUkUERX",
        "outputId": "aab1efb7-ef4a-4615-c45a-3f3f23fcf1c3"
      },
      "execution_count": 3,
      "outputs": [
        {
          "output_type": "stream",
          "name": "stdout",
          "text": [
            "2025-04-20 22:29:47.962312: E external/local_xla/xla/stream_executor/cuda/cuda_fft.cc:477] Unable to register cuFFT factory: Attempting to register factory for plugin cuFFT when one has already been registered\n",
            "WARNING: All log messages before absl::InitializeLog() is called are written to STDERR\n",
            "E0000 00:00:1745188188.002084    1632 cuda_dnn.cc:8310] Unable to register cuDNN factory: Attempting to register factory for plugin cuDNN when one has already been registered\n",
            "E0000 00:00:1745188188.013972    1632 cuda_blas.cc:1418] Unable to register cuBLAS factory: Attempting to register factory for plugin cuBLAS when one has already been registered\n",
            "2025-04-20 22:29:48.053324: I tensorflow/core/platform/cpu_feature_guard.cc:210] This TensorFlow binary is optimized to use available CPU instructions in performance-critical operations.\n",
            "To enable the following instructions: AVX2 FMA, in other operations, rebuild TensorFlow with the appropriate compiler flags.\n",
            "INFO [ Config.config.get_config ] : Parameters from config file\n",
            "    train_mode: flu-bind\n",
            "    model: XBCR_ACNN\n",
            "    batch_sz: 16\n",
            "    device: cuda\n",
            "    num_epochs: 100\n",
            "    lr: 1e-05\n",
            "    meta_update_iter: 5\n",
            "    unsup_loss_weight: 1\n",
            "    mark: 001\n",
            "    use_onehot: False\n",
            "    bert_name: External/prot_bert\n",
            "    root_dir: /fs1/home/caolab/bcr_semi_supervise/\n",
            "    pretrain_model_dir: Models/240612-flu-bind\n",
            "    hiv_split_seed: 3\n",
            "    prop: [2, 2, 1, 1, 1.2]\n",
            "    rand_seed: 2023\n",
            "    freeze_layer_count: 20\n",
            "    freeze_bert: False\n",
            "    saveaft: 5\n",
            "    print_step: 20\n",
            "    best_val_epoch: 0\n",
            "    regul_step: 100\n",
            "    regul_v: [0.02, 0.001]\n",
            "    regul_tgt_dev_rat: 0.08\n",
            "    benchmark: acc\n",
            "    fdir_train_1: Data/20240611_rbd_flu_hiv_trainmeta_data/20240621-abag_flu_trainmeta_pos_fold{}_randomseed-3.xlsx\n",
            "    fdir_train_0: Data/20240611_rbd_flu_hiv_trainmeta_data/20240621-abag_flu_trainmeta_neg_fold{}_randomseed-3.xlsx\n",
            "    fdir_train_nolabel: Data/1025_all_merged_QIV_bcrs.xlsx\n",
            "    fdir_train_non_experiment_list: ['Data/240618_nega_forflu_processed_data.xlsx', 'Data/240314_neg_data_for_flu.xlsx']\n",
            "    fdir_val_1: Data/20240611_rbd_flu_hiv_trainmeta_data/20240621-abag_flu_valmeta_neg_fold{}_randomseed-3.xlsx\n",
            "    fdir_val_0: Data/20240611_rbd_flu_hiv_trainmeta_data/20240621-abag_flu_valmeta_pos_fold{}_randomseed-3.xlsx\n",
            "    fdir_tst_dict: {'TEST': 'Data/Benchmark_flu_bind_0612.xlsx', 'TEST-clone': 'Data/Benchmark_flu_bind_240621_clone.xlsx'}\n",
            "INFO [ train ] : Got num_folds=None, will train all folds\n",
            "INFO [ train ] : <RESULT DIR>: Results/flu-bind/rslt-meta_XBCR_ACNN_001_flu-bind_[2, 2, 1, 1, 1.2]_fold0_metaacc-semi/\n",
            "Traceback (most recent call last):\n",
            "  File \"/content/meta_bcr/MetaBCR/utils.py\", line 11, in read_table\n",
            "    data = pd.read_csv(file)\n",
            "           ^^^^^^^^^^^^^^^^^\n",
            "  File \"/usr/local/lib/python3.11/dist-packages/pandas/io/parsers/readers.py\", line 1026, in read_csv\n",
            "    return _read(filepath_or_buffer, kwds)\n",
            "           ^^^^^^^^^^^^^^^^^^^^^^^^^^^^^^^\n",
            "  File \"/usr/local/lib/python3.11/dist-packages/pandas/io/parsers/readers.py\", line 620, in _read\n",
            "    parser = TextFileReader(filepath_or_buffer, **kwds)\n",
            "             ^^^^^^^^^^^^^^^^^^^^^^^^^^^^^^^^^^^^^^^^^^\n",
            "  File \"/usr/local/lib/python3.11/dist-packages/pandas/io/parsers/readers.py\", line 1620, in __init__\n",
            "    self._engine = self._make_engine(f, self.engine)\n",
            "                   ^^^^^^^^^^^^^^^^^^^^^^^^^^^^^^^^^\n",
            "  File \"/usr/local/lib/python3.11/dist-packages/pandas/io/parsers/readers.py\", line 1880, in _make_engine\n",
            "    self.handles = get_handle(\n",
            "                   ^^^^^^^^^^^\n",
            "  File \"/usr/local/lib/python3.11/dist-packages/pandas/io/common.py\", line 873, in get_handle\n",
            "    handle = open(\n",
            "             ^^^^^\n",
            "FileNotFoundError: [Errno 2] No such file or directory: 'Data/20240611_rbd_flu_hiv_trainmeta_data/20240621-abag_flu_trainmeta_pos_fold0_randomseed-3.xlsx'\n",
            "\n",
            "During handling of the above exception, another exception occurred:\n",
            "\n",
            "Traceback (most recent call last):\n",
            "  File \"/content/meta_bcr/train_semi_supervise.py\", line 351, in <module>\n",
            "    train(num_fold=None, _cfg_=configure)\n",
            "  File \"/content/meta_bcr/train_semi_supervise.py\", line 48, in train\n",
            "    data_train_1 = utils.read_tables(_cfg_.fdir_train_1.format(fold))\n",
            "                   ^^^^^^^^^^^^^^^^^^^^^^^^^^^^^^^^^^^^^^^^^^^^^^^^^^\n",
            "  File \"/content/meta_bcr/MetaBCR/utils.py\", line 19, in read_tables\n",
            "    data = read_table(files)\n",
            "           ^^^^^^^^^^^^^^^^^\n",
            "  File \"/content/meta_bcr/MetaBCR/utils.py\", line 13, in read_table\n",
            "    data = pd.read_excel(file)\n",
            "           ^^^^^^^^^^^^^^^^^^^\n",
            "  File \"/usr/local/lib/python3.11/dist-packages/pandas/io/excel/_base.py\", line 495, in read_excel\n",
            "    io = ExcelFile(\n",
            "         ^^^^^^^^^^\n",
            "  File \"/usr/local/lib/python3.11/dist-packages/pandas/io/excel/_base.py\", line 1550, in __init__\n",
            "    ext = inspect_excel_format(\n",
            "          ^^^^^^^^^^^^^^^^^^^^^\n",
            "  File \"/usr/local/lib/python3.11/dist-packages/pandas/io/excel/_base.py\", line 1402, in inspect_excel_format\n",
            "    with get_handle(\n",
            "         ^^^^^^^^^^^\n",
            "  File \"/usr/local/lib/python3.11/dist-packages/pandas/io/common.py\", line 882, in get_handle\n",
            "    handle = open(handle, ioargs.mode)\n",
            "             ^^^^^^^^^^^^^^^^^^^^^^^^^\n",
            "FileNotFoundError: [Errno 2] No such file or directory: 'Data/20240611_rbd_flu_hiv_trainmeta_data/20240621-abag_flu_trainmeta_pos_fold0_randomseed-3.xlsx'\n"
          ]
        }
      ]
    },
    {
      "cell_type": "markdown",
      "source": [
        "### 2.2a. Inference by entering data ###"
      ],
      "metadata": {
        "id": "s5JFReKFDyPg"
      }
    },
    {
      "cell_type": "code",
      "source": [
        "#@markdown \\* Example for a single data point:\n",
        "\n",
        "HEAVY='VQLVESGGGLVQPGGSLRLSCAASGFTFSSYDMHWVRQTTGKGLEWVSTIGTAGDTYYPDSVKGRFTISREDAKNSLYLQMNSLRAGDTAVYYCARGDSSGYYYYFDYWGQGTLLTVSS' #@param {type:\"string\"}\n",
        "LIGHT='DIEMTQSPSSLSAAVGDRVTITCRASQSIGSYLNWYQQKPGKAPKLLIYAASSLQSGVPSRFSGSGSGTDFTLTISSLQPEDFAIYYCQQSYVSPTYTFGPGTKVDIK'      #@param {type:\"string\"}\n",
        "ANTIG='RVQPTESIVRFPNITNLCPFGEVFNATRFASVYAWNRKRISNCVADYSVLYNSASFSTFKCYGVSPTKLNDLCFTNVYADSFVIRGDEVRQIAPGQTGKIADYNYKLPDDFTGCVIAWNSNNLDSKVGGNYNYLYRLFRKSNLKPFERDISTEIYQAGSTPCNGVEGFNCYFPLQSYGFQPTNGVGYQPYRVVVLSFELLHAPATVCGPKKSTNLVKNKCVNF' #@param {type:\"string\"}\n",
        "\n",
        "#@markdown > Leave `LIGHT=\"\"` or `LIGHT=\"_\"` to exclude the input of light chain.\n",
        "\n",
        "if LIGHT=='' or LIGHT=='_' or LIGHT=='*' or LIGHT==',':\n",
        "  LIGHT = '_'\n",
        "\n",
        "!python pred_bcr.py --heavy $HEAVY --light {LIGHT} --antig $ANTIG --model_name XBCR_net --data_name binding --model_num 0\n"
      ],
      "metadata": {
        "id": "Av3PcKSNFMxv",
        "cellView": "form"
      },
      "execution_count": null,
      "outputs": []
    },
    {
      "cell_type": "code",
      "source": [
        "#@markdown \\* Example for multiple data points (split by ','):\n",
        "\n",
        "HEAVY='VQLVESGGGLVQPGGSLRLSCAASGFTFSSYDMHWVRQTTGKGLEWVSTIGTAGDTYYPDSVKGRFTISREDAKNSLYLQMNSLRAGDTAVYYCARGDSSGYYYYFDYWGQGTLLTVSS,EVQLVESGGGLVQPGGSLRLSCAASGFTFNNYWMSWVRQAPGKGLEWVANINQDGSEKYYVDSVMGRFAISRDNAKNSLYLQMNSLRAEDTAVYYCARDQGYGDYFEYNWFDPWGQGTLVTVSS' #@param {type:\"string\"}\n",
        "LIGHT='DIEMTQSPSSLSAAVGDRVTITCRASQSIGSYLNWYQQKPGKAPKLLIYAASSLQSGVPSRFSGSGSGTDFTLTISSLQPEDFAIYYCQQSYVSPTYTFGPGTKVDIK,DIQLTQSPSFLSASVGDRVTITCRASQGIYSYLAWYQQKPGKAPKLLIYAASTLQSGVPSRFSGSGSGTEFTLTISSLQPEDFATYYCQQLNSYPITFGQGTRLEIK' #@param {type:\"string\"}\n",
        "ANTIG='RVQPTESIVRFPNITNLCPFGEVFNATRFASVYAWNRKRISNCVADYSVLYNSASFSTFKCYGVSPTKLNDLCFTNVYADSFVIRGDEVRQIAPGQTGKIADYNYKLPDDFTGCVIAWNSNNLDSKVGGNYNYLYRLFRKSNLKPFERDISTEIYQAGSTPCNGVEGFNCYFPLQSYGFQPTNGVGYQPYRVVVLSFELLHAPATVCGPKKSTNLVKNKCVNF,RVQPTESIVRFPNITNLCPFGEVFNATRFASVYAWNRKRISNCVADYSVLYNSASFSTFKCYGVSPTKLNDLCFTNVYADSFVIRGDEVRQIAPGQTGKIADYNYKLPDDFTGCVIAWNSNNLDSKVGGNYNYLYRLFRKSNLKPFERDISTEIYQAGSTPCNGVEGFNCYFPLQSYGFQPTNGVGYQPYRVVVLSFELLHAPATVCGPKKSTNLVKNKCVNF' #@param {type:\"string\"}\n",
        "\n",
        "#@markdown > Set `LIGHT=\"XXX, ,XXX\"` or `LIGHT=\"XXX,_,XXX\"` to selectively exclude the input of light chains.\\\n",
        "#@markdown > Spaces (' ' or '_') and carriage returns ('\\n') are not recognized as a part of sequence.\n",
        "\n",
        "if LIGHT=='' or LIGHT=='_' or LIGHT=='*' or LIGHT==',':\n",
        "  LIGHT = '_'\n",
        "\n",
        "!python pred_bcr.py --heavy $HEAVY --light $LIGHT --antig $ANTIG --model_name XBCR_net --data_name binding --model_num 0\n"
      ],
      "metadata": {
        "id": "81B8HEw_Jmia",
        "cellView": "form"
      },
      "execution_count": null,
      "outputs": []
    },
    {
      "cell_type": "markdown",
      "source": [
        "<div align=\"center\">\n",
        "\n",
        "| Argument              | Description                                \t|\n",
        "| --------------------- | ----------------------------------------------|\n",
        "| `--heavy` \t\t| The heavy chain           \t\t\t|\n",
        "| `--light` \t\t| The light chain                       \t|\n",
        "| `--antig` \t\t| The antigen                       \t\t|\n",
        "| `--data_name` \t| The data folder name                       \t|\n",
        "| `--data_name` \t| The data folder name                       \t|\n",
        "| `--model_name`        | The used model                      \t     \t|\n",
        "| `--model_num`         | The index number of the used model         \t|\n",
        "\n",
        "</div>"
      ],
      "metadata": {
        "id": "aZxiiV4PPNZN"
      }
    },
    {
      "cell_type": "markdown",
      "source": [
        "### 2.2b. Batch Inference ###\n",
        "1. Upload the antibody files in `/content/XBCR-net/data/binding/ab_to_pred/` and the antigen files in `/content/XBCR-net/data/binding/ag_to_pred/`\n",
        "\n",
        "2. Run\n",
        "```!python main_infer.py --model_name XBCR_net --data_name binding --model_num $model_num --include_light [1/0]```\n",
        "\n",
        "3. Download the result excel file from `/content/XBCR-net/data/binding/test/results/*`"
      ],
      "metadata": {
        "id": "3Ulgx0aRlNv2"
      }
    },
    {
      "cell_type": "markdown",
      "source": [
        "<div align=\"center\">\n",
        "\n",
        "| Argument              | Description                                \t|\n",
        "| --------------------- | ----------------------------------------------|\n",
        "| `--data_name` \t| The data folder name                       \t|\n",
        "| `--model_name`        | The used model                      \t     \t|\n",
        "| `--model_num`         | The index number of trained model          \t|\n",
        "| `--include_light`     | 1/0: include/exclude input of a light chain\t|\n",
        "\n",
        "</div>"
      ],
      "metadata": {
        "id": "nxT72MGePXUp"
      }
    },
    {
      "cell_type": "code",
      "source": [
        "#@markdown \\* Example for batch inference:\n",
        "\n",
        "model_name = 'XBCR_net' #@param {type:\"string\"}\n",
        "data_name = 'binding' #@param {type:\"string\"}\n",
        "model_num = 0     #@param {type:\"integer\"}\n",
        "include_light = True #@param {type:\"boolean\"}\n",
        "include_light = int(include_light)\n",
        "\n",
        "!python main_infer.py --model_name {model_name} --data_name {data_name} --model_num {model_num} --include_light {include_light}\n"
      ],
      "metadata": {
        "id": "xwcnHsPblZae",
        "cellView": "form"
      },
      "execution_count": null,
      "outputs": []
    },
    {
      "cell_type": "code",
      "source": [
        "#@markdown \\* Download the result file from `/content/XBCR-net/data/binding/test/results/`.\n",
        "\n",
        "from google.colab import files\n",
        "import os\n",
        "download_path = os.path.join('data',data_name,'test','results','results_rbd_'+model_name+'-'+str(model_num)+'.xlsx')\n",
        "files.download(download_path)\n",
        "print('Download the file: '+download_path)"
      ],
      "metadata": {
        "cellView": "form",
        "id": "Wdxp4hKk3kro"
      },
      "execution_count": null,
      "outputs": []
    },
    {
      "cell_type": "markdown",
      "source": [
        "## 3. Citing this work\n",
        "\n",
        "Any publication that discloses findings arising from using this source code or the network model should cite\n",
        "\n",
        "- Hantao Lou, Jianqing Zheng, Xiaohang Leo Fang, Zhu Liang, Meihan Zhang, Yu Chen, Chunmei Wang, Xuetao Cao, \"Deep learning-based rapid generation of broadly reactive antibodies against SARS-CoV-2 and its Omicron variant.\" *Cell Research* 33.1 (2023): 80-82.\n",
        "\n",
        "```bibtex\n",
        "@article{lou2022deep,\n",
        "  title={Deep learning-based rapid generation of broadly reactive antibodies against SARS-CoV-2 and its Omicron variant},\n",
        "  author={Lou, Hantao and Zheng, Jianqing and Fang, Xiaohang Leo and Liang, Zhu and Zhang, Meihan and Chen, Yu and Wang, Chunmei and Cao, Xuetao},\n",
        "  journal={Cell Research},\n",
        "  pages={1--3},\n",
        "  year={2022},\n",
        "  publisher={Nature Publishing Group},\n",
        "  doi={10.1038/s41422-022-00727-6},\n",
        "}\n",
        "```\n"
      ],
      "metadata": {
        "id": "Dg0PMCfSwcXx"
      }
    }
  ]
}